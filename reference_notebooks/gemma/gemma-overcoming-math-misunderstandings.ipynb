{
 "cells": [
  {
   "cell_type": "markdown",
   "id": "1675320b",
   "metadata": {
    "papermill": {
     "duration": 0.007791,
     "end_time": "2025-07-11T14:08:58.223921",
     "exception": false,
     "start_time": "2025-07-11T14:08:58.216130",
     "status": "completed"
    },
    "tags": []
   },
   "source": [
    "Published on July 10, 2025. By Prata, Marília (mpwolke)"
   ]
  },
  {
   "cell_type": "code",
   "execution_count": 1,
   "id": "32c78deb",
   "metadata": {
    "_cell_guid": "b1076dfc-b9ad-4769-8c92-a6c4dae69d19",
    "_kg_hide-input": true,
    "_kg_hide-output": true,
    "_uuid": "8f2839f25d086af736a60e9eeb907d3b93b6e0e5",
    "execution": {
     "iopub.execute_input": "2025-07-11T14:08:58.240565Z",
     "iopub.status.busy": "2025-07-11T14:08:58.239920Z",
     "iopub.status.idle": "2025-07-11T14:09:02.621332Z",
     "shell.execute_reply": "2025-07-11T14:09:02.620076Z"
    },
    "papermill": {
     "duration": 4.391845,
     "end_time": "2025-07-11T14:09:02.623577",
     "exception": false,
     "start_time": "2025-07-11T14:08:58.231732",
     "status": "completed"
    },
    "tags": []
   },
   "outputs": [
    {
     "name": "stdout",
     "output_type": "stream",
     "text": [
      "/kaggle/input/gemma/keras/gemma_2b_en/3/config.json\n",
      "/kaggle/input/gemma/keras/gemma_2b_en/3/tokenizer.json\n",
      "/kaggle/input/gemma/keras/gemma_2b_en/3/metadata.json\n",
      "/kaggle/input/gemma/keras/gemma_2b_en/3/model.weights.h5\n",
      "/kaggle/input/gemma/keras/gemma_2b_en/3/assets/tokenizer/vocabulary.spm\n",
      "/kaggle/input/map-charting-student-math-misunderstandings/sample_submission.csv\n",
      "/kaggle/input/map-charting-student-math-misunderstandings/train.csv\n",
      "/kaggle/input/map-charting-student-math-misunderstandings/test.csv\n",
      "/kaggle/input/gemma2/keras/gemma2_2b_en/2/config.json\n",
      "/kaggle/input/gemma2/keras/gemma2_2b_en/2/tokenizer.json\n",
      "/kaggle/input/gemma2/keras/gemma2_2b_en/2/metadata.json\n",
      "/kaggle/input/gemma2/keras/gemma2_2b_en/2/model.weights.h5\n",
      "/kaggle/input/gemma2/keras/gemma2_2b_en/2/assets/tokenizer/vocabulary.spm\n"
     ]
    }
   ],
   "source": [
    "# This Python 3 environment comes with many helpful analytics libraries installed\n",
    "# It is defined by the kaggle/python Docker image: https://github.com/kaggle/docker-python\n",
    "# For example, here's several helpful packages to load\n",
    "\n",
    "import numpy as np # linear algebra\n",
    "import pandas as pd # data processing, CSV file I/O (e.g. pd.read_csv)\n",
    "import seaborn as sns\n",
    "import matplotlib.pyplot as plt\n",
    "\n",
    "\n",
    "#Ignore warnings\n",
    "import warnings\n",
    "warnings.filterwarnings('ignore')\n",
    "\n",
    "# Input data files are available in the read-only \"../input/\" directory\n",
    "# For example, running this (by clicking run or pressing Shift+Enter) will list all files under the input directory\n",
    "\n",
    "import os\n",
    "for dirname, _, filenames in os.walk('/kaggle/input'):\n",
    "    for filename in filenames:\n",
    "        print(os.path.join(dirname, filename))\n",
    "\n",
    "# You can write up to 20GB to the current directory (/kaggle/working/) that gets preserved as output when you create a version using \"Save & Run All\" \n",
    "# You can also write temporary files to /kaggle/temp/, but they won't be saved outside of the current session"
   ]
  },
  {
   "cell_type": "markdown",
   "id": "96b06620",
   "metadata": {
    "papermill": {
     "duration": 0.00702,
     "end_time": "2025-07-11T14:09:02.643653",
     "exception": false,
     "start_time": "2025-07-11T14:09:02.636633",
     "status": "completed"
    },
    "tags": []
   },
   "source": [
    "![](https://www.mathcoachscorner.com/wp-content/uploads/2012/07/Planning-for-math-misconceptions.png)https://www.mathcoachscorner.com/2012/07/overcoming-misconceptions/"
   ]
  },
  {
   "cell_type": "markdown",
   "id": "12149ce0",
   "metadata": {
    "papermill": {
     "duration": 0.007621,
     "end_time": "2025-07-11T14:09:02.659622",
     "exception": false,
     "start_time": "2025-07-11T14:09:02.652001",
     "status": "completed"
    },
    "tags": []
   },
   "source": [
    "## About Competition \n",
    "\n",
    "MAP  (Misconception Annotation Project) - Charting Student Math Misunderstandings\n",
    "\n",
    "\"In this competition, you’ll develop an NLP model driven by ML to accurately predict students’ potential math misconceptions based on student explanations in open-ended responses. This solution will suggest candidate misconceptions for these explanations, making it easier for teachers to identify and address students’ incorrect thinking, which is critical to improving student math learning.\"\n",
    "\n",
    "https://www.kaggle.com/competitions/map-charting-student-math-misunderstandings/overview"
   ]
  },
  {
   "cell_type": "markdown",
   "id": "875e4953",
   "metadata": {
    "papermill": {
     "duration": 0.012078,
     "end_time": "2025-07-11T14:09:02.680843",
     "exception": false,
     "start_time": "2025-07-11T14:09:02.668765",
     "status": "completed"
    },
    "tags": []
   },
   "source": [
    "## Competition Citation\n",
    "\n",
    "@misc{map-charting-student-math-misunderstandings,\n",
    "\n",
    "    author = {Jules King and Kennedy Smith and L Burleigh and Scott Crossley and Maggie Demkin and Walter Reade},\n",
    "    \n",
    "    title = {MAP - Charting Student Math Misunderstandings},\n",
    "    year = {2025},\n",
    "    \n",
    "    howpublished = {\\url{https://kaggle.com/competitions/map-charting-student-math-misunderstandings}},\n",
    "    \n",
    "    note = {Kaggle}\n",
    "}"
   ]
  },
  {
   "cell_type": "markdown",
   "id": "c14f6f8f",
   "metadata": {
    "papermill": {
     "duration": 0.01125,
     "end_time": "2025-07-11T14:09:02.704483",
     "exception": false,
     "start_time": "2025-07-11T14:09:02.693233",
     "status": "completed"
    },
    "tags": []
   },
   "source": [
    "## Overcoming Misconceptions for Learning\n",
    "\n",
    "How Do I Get My Students Over Their Alternative Conceptions (Misconceptions) for Learning?\n",
    "\n",
    "Authors: Joan Lucariello and David Naff\n",
    "\n",
    "\"Misconceptions can really impede learning for several reasons. First, students generally are unaware that the knowledge they have is wrong. Moreover, misconceptions can be very entrenched in student thinking. In addition, students interpret new experiences through these erroneous understandings, thereby interfering with being able to correctly grasp new information.\"\n",
    "\n",
    "\"Misconceptions tend to be very resistant to instruction because learning entails replacing or radically reorganizing student knowledge. Hence, conceptual change has to occur for learning to happen. This puts teachers in the very challenging position of needing to bring about significant conceptual change in student knowledge.\"\n",
    "\n",
    "\"Generally, ordinary forms of instruction, such as lectures, labs, discovery learning, or simply reading texts, are not very successful at overcoming student misconceptions. For all these reasons, misconceptions can be hard nuts for teachers to crack.\"\n",
    "\n",
    "\"Several instructional strategies have proven to be effective in achieving conceptual change and helping students leave their alternative conceptions behind and learn correct concepts or theories.\"\n",
    "\n",
    "### Do's\n",
    "\n",
    "\"Assess students preconceptions, create a bridge of examples, present new concepts or theories, use model-based reasoning, use diverse instruction, Present students with experiences that cause cognitive conflict,engage in Interactive Conceptual Instruction (ICI), Develop students' epistemological thinking, use case studies as teaching tools,help students \"self-repair\" their misconceptions, engage students in argument to strengthen their newly acquired correct knowledge.\"\n",
    "\n",
    "### Dont's\n",
    "\n",
    "\"Do NOT: rely solely on lectures, rely solely on labs or hands-on activities, rely solely on demonstrations, rely solely on having students simply read the text, rely solely on a singular perspective when there are multiple ways to interpret material.\"\n",
    "\n",
    "https://www.apa.org/education-career/k12/misconceptions"
   ]
  },
  {
   "cell_type": "code",
   "execution_count": 2,
   "id": "24793de1",
   "metadata": {
    "execution": {
     "iopub.execute_input": "2025-07-11T14:09:02.720837Z",
     "iopub.status.busy": "2025-07-11T14:09:02.719703Z",
     "iopub.status.idle": "2025-07-11T14:09:03.012593Z",
     "shell.execute_reply": "2025-07-11T14:09:03.011523Z"
    },
    "papermill": {
     "duration": 0.303011,
     "end_time": "2025-07-11T14:09:03.014530",
     "exception": false,
     "start_time": "2025-07-11T14:09:02.711519",
     "status": "completed"
    },
    "tags": []
   },
   "outputs": [
    {
     "data": {
      "text/html": [
       "<div>\n",
       "<style scoped>\n",
       "    .dataframe tbody tr th:only-of-type {\n",
       "        vertical-align: middle;\n",
       "    }\n",
       "\n",
       "    .dataframe tbody tr th {\n",
       "        vertical-align: top;\n",
       "    }\n",
       "\n",
       "    .dataframe thead th {\n",
       "        text-align: right;\n",
       "    }\n",
       "</style>\n",
       "<table border=\"1\" class=\"dataframe\">\n",
       "  <thead>\n",
       "    <tr style=\"text-align: right;\">\n",
       "      <th></th>\n",
       "      <th>row_id</th>\n",
       "      <th>QuestionId</th>\n",
       "      <th>QuestionText</th>\n",
       "      <th>MC_Answer</th>\n",
       "      <th>StudentExplanation</th>\n",
       "      <th>Category</th>\n",
       "      <th>Misconception</th>\n",
       "    </tr>\n",
       "  </thead>\n",
       "  <tbody>\n",
       "    <tr>\n",
       "      <th>36693</th>\n",
       "      <td>36693</td>\n",
       "      <td>109465</td>\n",
       "      <td>The probability of an event occurring is \\( 0....</td>\n",
       "      <td>Unlikely</td>\n",
       "      <td>yeah pretty unlikelyy from what it seems.</td>\n",
       "      <td>False_Neither</td>\n",
       "      <td>NaN</td>\n",
       "    </tr>\n",
       "    <tr>\n",
       "      <th>36694</th>\n",
       "      <td>36694</td>\n",
       "      <td>109465</td>\n",
       "      <td>The probability of an event occurring is \\( 0....</td>\n",
       "      <td>Unlikely</td>\n",
       "      <td>you have 9 other numbers to get.</td>\n",
       "      <td>False_Neither</td>\n",
       "      <td>NaN</td>\n",
       "    </tr>\n",
       "    <tr>\n",
       "      <th>36695</th>\n",
       "      <td>36695</td>\n",
       "      <td>109465</td>\n",
       "      <td>The probability of an event occurring is \\( 0....</td>\n",
       "      <td>Unlikely</td>\n",
       "      <td>you have a chanve but it is not i think this b...</td>\n",
       "      <td>False_Neither</td>\n",
       "      <td>NaN</td>\n",
       "    </tr>\n",
       "  </tbody>\n",
       "</table>\n",
       "</div>"
      ],
      "text/plain": [
       "       row_id  QuestionId                                       QuestionText  \\\n",
       "36693   36693      109465  The probability of an event occurring is \\( 0....   \n",
       "36694   36694      109465  The probability of an event occurring is \\( 0....   \n",
       "36695   36695      109465  The probability of an event occurring is \\( 0....   \n",
       "\n",
       "      MC_Answer                                 StudentExplanation  \\\n",
       "36693  Unlikely          yeah pretty unlikelyy from what it seems.   \n",
       "36694  Unlikely                   you have 9 other numbers to get.   \n",
       "36695  Unlikely  you have a chanve but it is not i think this b...   \n",
       "\n",
       "            Category Misconception  \n",
       "36693  False_Neither           NaN  \n",
       "36694  False_Neither           NaN  \n",
       "36695  False_Neither           NaN  "
      ]
     },
     "execution_count": 2,
     "metadata": {},
     "output_type": "execute_result"
    }
   ],
   "source": [
    "train = pd.read_csv('../input/map-charting-student-math-misunderstandings/train.csv')\n",
    "train.tail(3)"
   ]
  },
  {
   "cell_type": "markdown",
   "id": "edce6a64",
   "metadata": {
    "papermill": {
     "duration": 0.007561,
     "end_time": "2025-07-11T14:09:03.030416",
     "exception": false,
     "start_time": "2025-07-11T14:09:03.022855",
     "status": "completed"
    },
    "tags": []
   },
   "source": [
    "## Load test file (we have only 3 rows)"
   ]
  },
  {
   "cell_type": "code",
   "execution_count": 3,
   "id": "84f027fe",
   "metadata": {
    "execution": {
     "iopub.execute_input": "2025-07-11T14:09:03.049066Z",
     "iopub.status.busy": "2025-07-11T14:09:03.048586Z",
     "iopub.status.idle": "2025-07-11T14:09:03.072441Z",
     "shell.execute_reply": "2025-07-11T14:09:03.071391Z"
    },
    "papermill": {
     "duration": 0.035622,
     "end_time": "2025-07-11T14:09:03.074504",
     "exception": false,
     "start_time": "2025-07-11T14:09:03.038882",
     "status": "completed"
    },
    "tags": []
   },
   "outputs": [
    {
     "data": {
      "text/html": [
       "<div>\n",
       "<style scoped>\n",
       "    .dataframe tbody tr th:only-of-type {\n",
       "        vertical-align: middle;\n",
       "    }\n",
       "\n",
       "    .dataframe tbody tr th {\n",
       "        vertical-align: top;\n",
       "    }\n",
       "\n",
       "    .dataframe thead th {\n",
       "        text-align: right;\n",
       "    }\n",
       "</style>\n",
       "<table border=\"1\" class=\"dataframe\">\n",
       "  <thead>\n",
       "    <tr style=\"text-align: right;\">\n",
       "      <th></th>\n",
       "      <th>row_id</th>\n",
       "      <th>QuestionId</th>\n",
       "      <th>QuestionText</th>\n",
       "      <th>MC_Answer</th>\n",
       "      <th>StudentExplanation</th>\n",
       "    </tr>\n",
       "  </thead>\n",
       "  <tbody>\n",
       "    <tr>\n",
       "      <th>0</th>\n",
       "      <td>36696</td>\n",
       "      <td>31772</td>\n",
       "      <td>What fraction of the shape is not shaded? Give...</td>\n",
       "      <td>\\( \\frac{1}{3} \\)</td>\n",
       "      <td>I think that 1/3 is the answer, as it's the si...</td>\n",
       "    </tr>\n",
       "    <tr>\n",
       "      <th>1</th>\n",
       "      <td>36697</td>\n",
       "      <td>31772</td>\n",
       "      <td>What fraction of the shape is not shaded? Give...</td>\n",
       "      <td>\\( \\frac{3}{6} \\)</td>\n",
       "      <td>i think this answer is because 3 triangles are...</td>\n",
       "    </tr>\n",
       "    <tr>\n",
       "      <th>2</th>\n",
       "      <td>36698</td>\n",
       "      <td>32835</td>\n",
       "      <td>Which number is the greatest?</td>\n",
       "      <td>\\( 6.2 \\)</td>\n",
       "      <td>because the 2 makes it higher than the others.</td>\n",
       "    </tr>\n",
       "  </tbody>\n",
       "</table>\n",
       "</div>"
      ],
      "text/plain": [
       "   row_id  QuestionId                                       QuestionText  \\\n",
       "0   36696       31772  What fraction of the shape is not shaded? Give...   \n",
       "1   36697       31772  What fraction of the shape is not shaded? Give...   \n",
       "2   36698       32835                      Which number is the greatest?   \n",
       "\n",
       "           MC_Answer                                 StudentExplanation  \n",
       "0  \\( \\frac{1}{3} \\)  I think that 1/3 is the answer, as it's the si...  \n",
       "1  \\( \\frac{3}{6} \\)  i think this answer is because 3 triangles are...  \n",
       "2          \\( 6.2 \\)     because the 2 makes it higher than the others.  "
      ]
     },
     "execution_count": 3,
     "metadata": {},
     "output_type": "execute_result"
    }
   ],
   "source": [
    "test = pd.read_csv('../input/map-charting-student-math-misunderstandings/test.csv')\n",
    "test.tail()"
   ]
  },
  {
   "cell_type": "markdown",
   "id": "3354de4a",
   "metadata": {
    "papermill": {
     "duration": 0.008066,
     "end_time": "2025-07-11T14:09:03.098032",
     "exception": false,
     "start_time": "2025-07-11T14:09:03.089966",
     "status": "completed"
    },
    "tags": []
   },
   "source": [
    "### QuestionText 0 and 1 are the same"
   ]
  },
  {
   "cell_type": "code",
   "execution_count": 4,
   "id": "418d6d56",
   "metadata": {
    "execution": {
     "iopub.execute_input": "2025-07-11T14:09:03.114505Z",
     "iopub.status.busy": "2025-07-11T14:09:03.114186Z",
     "iopub.status.idle": "2025-07-11T14:09:03.123380Z",
     "shell.execute_reply": "2025-07-11T14:09:03.122217Z"
    },
    "papermill": {
     "duration": 0.019673,
     "end_time": "2025-07-11T14:09:03.125018",
     "exception": false,
     "start_time": "2025-07-11T14:09:03.105345",
     "status": "completed"
    },
    "tags": []
   },
   "outputs": [
    {
     "data": {
      "text/plain": [
       "'What fraction of the shape is not shaded? Give your answer in its simplest form. [Image: A triangle split into 9 equal smaller triangles. 6 of them are shaded.]'"
      ]
     },
     "execution_count": 4,
     "metadata": {},
     "output_type": "execute_result"
    }
   ],
   "source": [
    "test['QuestionText'][0]"
   ]
  },
  {
   "cell_type": "code",
   "execution_count": 5,
   "id": "5fe33aed",
   "metadata": {
    "execution": {
     "iopub.execute_input": "2025-07-11T14:09:03.141610Z",
     "iopub.status.busy": "2025-07-11T14:09:03.141155Z",
     "iopub.status.idle": "2025-07-11T14:09:03.148680Z",
     "shell.execute_reply": "2025-07-11T14:09:03.147514Z"
    },
    "papermill": {
     "duration": 0.017857,
     "end_time": "2025-07-11T14:09:03.150473",
     "exception": false,
     "start_time": "2025-07-11T14:09:03.132616",
     "status": "completed"
    },
    "tags": []
   },
   "outputs": [
    {
     "data": {
      "text/plain": [
       "\"I think that 1/3 is the answer, as it's the simplest form of 3/9.\""
      ]
     },
     "execution_count": 5,
     "metadata": {},
     "output_type": "execute_result"
    }
   ],
   "source": [
    "test['StudentExplanation'][0]"
   ]
  },
  {
   "cell_type": "markdown",
   "id": "4349907e",
   "metadata": {
    "papermill": {
     "duration": 0.00868,
     "end_time": "2025-07-11T14:09:03.167443",
     "exception": false,
     "start_time": "2025-07-11T14:09:03.158763",
     "status": "completed"
    },
    "tags": []
   },
   "source": [
    "### Where is written about triangle colors???"
   ]
  },
  {
   "cell_type": "code",
   "execution_count": 6,
   "id": "2c5d21ae",
   "metadata": {
    "execution": {
     "iopub.execute_input": "2025-07-11T14:09:03.184920Z",
     "iopub.status.busy": "2025-07-11T14:09:03.184523Z",
     "iopub.status.idle": "2025-07-11T14:09:03.193357Z",
     "shell.execute_reply": "2025-07-11T14:09:03.192169Z"
    },
    "papermill": {
     "duration": 0.019845,
     "end_time": "2025-07-11T14:09:03.195582",
     "exception": false,
     "start_time": "2025-07-11T14:09:03.175737",
     "status": "completed"
    },
    "tags": []
   },
   "outputs": [
    {
     "data": {
      "text/plain": [
       "'i think this answer is because 3 triangles are white and 6 triangle are blue.'"
      ]
     },
     "execution_count": 6,
     "metadata": {},
     "output_type": "execute_result"
    }
   ],
   "source": [
    "test['StudentExplanation'][1]"
   ]
  },
  {
   "cell_type": "code",
   "execution_count": 7,
   "id": "fc6abbe2",
   "metadata": {
    "execution": {
     "iopub.execute_input": "2025-07-11T14:09:03.220255Z",
     "iopub.status.busy": "2025-07-11T14:09:03.219739Z",
     "iopub.status.idle": "2025-07-11T14:09:03.228394Z",
     "shell.execute_reply": "2025-07-11T14:09:03.227412Z"
    },
    "papermill": {
     "duration": 0.020453,
     "end_time": "2025-07-11T14:09:03.230140",
     "exception": false,
     "start_time": "2025-07-11T14:09:03.209687",
     "status": "completed"
    },
    "tags": []
   },
   "outputs": [
    {
     "data": {
      "text/plain": [
       "'Which number is the greatest?'"
      ]
     },
     "execution_count": 7,
     "metadata": {},
     "output_type": "execute_result"
    }
   ],
   "source": [
    "test['QuestionText'][2]"
   ]
  },
  {
   "cell_type": "markdown",
   "id": "03d366a6",
   "metadata": {
    "papermill": {
     "duration": 0.00919,
     "end_time": "2025-07-11T14:09:03.247400",
     "exception": false,
     "start_time": "2025-07-11T14:09:03.238210",
     "status": "completed"
    },
    "tags": []
   },
   "source": [
    "## Submission file. Only 3 rows too."
   ]
  },
  {
   "cell_type": "code",
   "execution_count": 8,
   "id": "32cf1f3a",
   "metadata": {
    "execution": {
     "iopub.execute_input": "2025-07-11T14:09:03.264225Z",
     "iopub.status.busy": "2025-07-11T14:09:03.263745Z",
     "iopub.status.idle": "2025-07-11T14:09:03.287006Z",
     "shell.execute_reply": "2025-07-11T14:09:03.286027Z"
    },
    "papermill": {
     "duration": 0.033666,
     "end_time": "2025-07-11T14:09:03.288705",
     "exception": false,
     "start_time": "2025-07-11T14:09:03.255039",
     "status": "completed"
    },
    "tags": []
   },
   "outputs": [
    {
     "data": {
      "text/html": [
       "<div>\n",
       "<style scoped>\n",
       "    .dataframe tbody tr th:only-of-type {\n",
       "        vertical-align: middle;\n",
       "    }\n",
       "\n",
       "    .dataframe tbody tr th {\n",
       "        vertical-align: top;\n",
       "    }\n",
       "\n",
       "    .dataframe thead th {\n",
       "        text-align: right;\n",
       "    }\n",
       "</style>\n",
       "<table border=\"1\" class=\"dataframe\">\n",
       "  <thead>\n",
       "    <tr style=\"text-align: right;\">\n",
       "      <th></th>\n",
       "      <th>row_id</th>\n",
       "      <th>Category:Misconception</th>\n",
       "    </tr>\n",
       "  </thead>\n",
       "  <tbody>\n",
       "    <tr>\n",
       "      <th>0</th>\n",
       "      <td>36696</td>\n",
       "      <td>True_Correct:NA False_Neither:NA False_Misconc...</td>\n",
       "    </tr>\n",
       "    <tr>\n",
       "      <th>1</th>\n",
       "      <td>36697</td>\n",
       "      <td>True_Correct:NA False_Neither:NA False_Misconc...</td>\n",
       "    </tr>\n",
       "    <tr>\n",
       "      <th>2</th>\n",
       "      <td>36698</td>\n",
       "      <td>True_Correct:NA False_Neither:NA False_Misconc...</td>\n",
       "    </tr>\n",
       "  </tbody>\n",
       "</table>\n",
       "</div>"
      ],
      "text/plain": [
       "   row_id                             Category:Misconception\n",
       "0   36696  True_Correct:NA False_Neither:NA False_Misconc...\n",
       "1   36697  True_Correct:NA False_Neither:NA False_Misconc...\n",
       "2   36698  True_Correct:NA False_Neither:NA False_Misconc..."
      ]
     },
     "execution_count": 8,
     "metadata": {},
     "output_type": "execute_result"
    }
   ],
   "source": [
    "sub = pd.read_csv('../input/map-charting-student-math-misunderstandings/sample_submission.csv')\n",
    "sub.tail()"
   ]
  },
  {
   "cell_type": "markdown",
   "id": "7f9fd7f3",
   "metadata": {
    "papermill": {
     "duration": 0.00782,
     "end_time": "2025-07-11T14:09:03.373514",
     "exception": false,
     "start_time": "2025-07-11T14:09:03.365694",
     "status": "completed"
    },
    "tags": []
   },
   "source": [
    "## info() method.  Missing values only in Misconceptions"
   ]
  },
  {
   "cell_type": "code",
   "execution_count": 9,
   "id": "754660fa",
   "metadata": {
    "_kg_hide-output": true,
    "collapsed": true,
    "execution": {
     "iopub.execute_input": "2025-07-11T14:09:03.391477Z",
     "iopub.status.busy": "2025-07-11T14:09:03.391155Z",
     "iopub.status.idle": "2025-07-11T14:09:03.426640Z",
     "shell.execute_reply": "2025-07-11T14:09:03.425586Z"
    },
    "jupyter": {
     "outputs_hidden": true
    },
    "papermill": {
     "duration": 0.047394,
     "end_time": "2025-07-11T14:09:03.428807",
     "exception": false,
     "start_time": "2025-07-11T14:09:03.381413",
     "status": "completed"
    },
    "tags": []
   },
   "outputs": [
    {
     "name": "stdout",
     "output_type": "stream",
     "text": [
      "<class 'pandas.core.frame.DataFrame'>\n",
      "RangeIndex: 36696 entries, 0 to 36695\n",
      "Data columns (total 7 columns):\n",
      " #   Column              Non-Null Count  Dtype \n",
      "---  ------              --------------  ----- \n",
      " 0   row_id              36696 non-null  int64 \n",
      " 1   QuestionId          36696 non-null  int64 \n",
      " 2   QuestionText        36696 non-null  object\n",
      " 3   MC_Answer           36696 non-null  object\n",
      " 4   StudentExplanation  36696 non-null  object\n",
      " 5   Category            36696 non-null  object\n",
      " 6   Misconception       9860 non-null   object\n",
      "dtypes: int64(2), object(5)\n",
      "memory usage: 2.0+ MB\n"
     ]
    }
   ],
   "source": [
    "train.info()"
   ]
  },
  {
   "cell_type": "markdown",
   "id": "34a497a2",
   "metadata": {
    "papermill": {
     "duration": 0.010334,
     "end_time": "2025-07-11T14:09:03.453798",
     "exception": false,
     "start_time": "2025-07-11T14:09:03.443464",
     "status": "completed"
    },
    "tags": []
   },
   "source": [
    "## Misconception Categories"
   ]
  },
  {
   "cell_type": "code",
   "execution_count": 10,
   "id": "6c3520f6",
   "metadata": {
    "_kg_hide-input": true,
    "execution": {
     "iopub.execute_input": "2025-07-11T14:09:03.471194Z",
     "iopub.status.busy": "2025-07-11T14:09:03.470407Z",
     "iopub.status.idle": "2025-07-11T14:09:03.880009Z",
     "shell.execute_reply": "2025-07-11T14:09:03.878770Z"
    },
    "papermill": {
     "duration": 0.420198,
     "end_time": "2025-07-11T14:09:03.881865",
     "exception": false,
     "start_time": "2025-07-11T14:09:03.461667",
     "status": "completed"
    },
    "tags": []
   },
   "outputs": [
    {
     "data": {
      "image/png": "[encoded data removed]",
      "text/plain": [
       "<Figure size 1000x400 with 1 Axes>"
      ]
     },
     "metadata": {},
     "output_type": "display_data"
    }
   ],
   "source": [
    "plt.figure(figsize=(10,4))\n",
    "sns.countplot(data=train, x='Category', order=train['Category'].value_counts().index, color='g')\n",
    "plt.xticks(rotation=45)\n",
    "plt.title(\"Misconception Categories Distribution\")\n",
    "plt.show()"
   ]
  },
  {
   "cell_type": "markdown",
   "id": "cb5235d8",
   "metadata": {
    "papermill": {
     "duration": 0.009329,
     "end_time": "2025-07-11T14:09:03.900564",
     "exception": false,
     "start_time": "2025-07-11T14:09:03.891235",
     "status": "completed"
    },
    "tags": []
   },
   "source": [
    "## Top 5 Students Explanations"
   ]
  },
  {
   "cell_type": "code",
   "execution_count": 11,
   "id": "7ac65d0f",
   "metadata": {
    "_kg_hide-input": true,
    "execution": {
     "iopub.execute_input": "2025-07-11T14:09:03.919551Z",
     "iopub.status.busy": "2025-07-11T14:09:03.919237Z",
     "iopub.status.idle": "2025-07-11T14:09:04.263881Z",
     "shell.execute_reply": "2025-07-11T14:09:04.263010Z"
    },
    "papermill": {
     "duration": 0.356296,
     "end_time": "2025-07-11T14:09:04.265654",
     "exception": false,
     "start_time": "2025-07-11T14:09:03.909358",
     "status": "completed"
    },
    "tags": []
   },
   "outputs": [
    {
     "data": {
      "image/png": "[encoded data removed]",
      "text/plain": [
       "<Figure size 1000x400 with 1 Axes>"
      ]
     },
     "metadata": {},
     "output_type": "display_data"
    }
   ],
   "source": [
    "plt.figure(figsize=(10,4))\n",
    "sns.countplot(data=train, x='StudentExplanation', order=train['StudentExplanation'].value_counts().head().index, color='r')\n",
    "plt.xticks(rotation=45)\n",
    "plt.title(\"Student Explanations Distribution\")\n",
    "plt.show()"
   ]
  },
  {
   "cell_type": "markdown",
   "id": "5a77a244",
   "metadata": {
    "papermill": {
     "duration": 0.010416,
     "end_time": "2025-07-11T14:09:04.286314",
     "exception": false,
     "start_time": "2025-07-11T14:09:04.275898",
     "status": "completed"
    },
    "tags": []
   },
   "source": [
    "## Question: The probability of an event occurring is ..."
   ]
  },
  {
   "cell_type": "code",
   "execution_count": 12,
   "id": "af8c520b",
   "metadata": {
    "_kg_hide-input": true,
    "execution": {
     "iopub.execute_input": "2025-07-11T14:09:04.307847Z",
     "iopub.status.busy": "2025-07-11T14:09:04.306708Z",
     "iopub.status.idle": "2025-07-11T14:09:04.313365Z",
     "shell.execute_reply": "2025-07-11T14:09:04.312367Z"
    },
    "papermill": {
     "duration": 0.019504,
     "end_time": "2025-07-11T14:09:04.315391",
     "exception": false,
     "start_time": "2025-07-11T14:09:04.295887",
     "status": "completed"
    },
    "tags": []
   },
   "outputs": [
    {
     "data": {
      "text/plain": [
       "'The probability of an event occurring is \\\\( 0.9 \\\\).\\n\\nWhich of the following most accurately describes the likelihood of the event occurring?'"
      ]
     },
     "execution_count": 12,
     "metadata": {},
     "output_type": "execute_result"
    }
   ],
   "source": [
    "train['QuestionText'][36694]"
   ]
  },
  {
   "cell_type": "markdown",
   "id": "bfb349ff",
   "metadata": {
    "papermill": {
     "duration": 0.00952,
     "end_time": "2025-07-11T14:09:04.335837",
     "exception": false,
     "start_time": "2025-07-11T14:09:04.326317",
     "status": "completed"
    },
    "tags": []
   },
   "source": [
    "### Funnier StudentExplanation to the question above:\n",
    "\n",
    "### \"you have 9 other numbers to get\""
   ]
  },
  {
   "cell_type": "code",
   "execution_count": 13,
   "id": "f875e541",
   "metadata": {
    "_kg_hide-input": true,
    "execution": {
     "iopub.execute_input": "2025-07-11T14:09:04.357106Z",
     "iopub.status.busy": "2025-07-11T14:09:04.356652Z",
     "iopub.status.idle": "2025-07-11T14:09:04.362853Z",
     "shell.execute_reply": "2025-07-11T14:09:04.362041Z"
    },
    "papermill": {
     "duration": 0.018979,
     "end_time": "2025-07-11T14:09:04.364813",
     "exception": false,
     "start_time": "2025-07-11T14:09:04.345834",
     "status": "completed"
    },
    "tags": []
   },
   "outputs": [
    {
     "data": {
      "text/plain": [
       "'you have 9 other numbers to get.'"
      ]
     },
     "execution_count": 13,
     "metadata": {},
     "output_type": "execute_result"
    }
   ],
   "source": [
    "train['StudentExplanation'][36694]"
   ]
  },
  {
   "cell_type": "markdown",
   "id": "bd0a7961",
   "metadata": {
    "papermill": {
     "duration": 0.010269,
     "end_time": "2025-07-11T14:09:04.386064",
     "exception": false,
     "start_time": "2025-07-11T14:09:04.375795",
     "status": "completed"
    },
    "tags": []
   },
   "source": [
    "## Misconceptions (Top 20) Distribution"
   ]
  },
  {
   "cell_type": "markdown",
   "id": "ec1c65d3",
   "metadata": {
    "papermill": {
     "duration": 0.009867,
     "end_time": "2025-07-11T14:09:04.405868",
     "exception": false,
     "start_time": "2025-07-11T14:09:04.396001",
     "status": "completed"
    },
    "tags": []
   },
   "source": [
    "\"Misconception - train only - The math misconception identified in the student's explanation for answers. Only applicable when Category contains a misconception, otherwise is 'NA'.\""
   ]
  },
  {
   "cell_type": "code",
   "execution_count": 14,
   "id": "9171f7dc",
   "metadata": {
    "_kg_hide-input": true,
    "execution": {
     "iopub.execute_input": "2025-07-11T14:09:04.427796Z",
     "iopub.status.busy": "2025-07-11T14:09:04.426627Z",
     "iopub.status.idle": "2025-07-11T14:09:04.714662Z",
     "shell.execute_reply": "2025-07-11T14:09:04.713697Z"
    },
    "papermill": {
     "duration": 0.301398,
     "end_time": "2025-07-11T14:09:04.717147",
     "exception": false,
     "start_time": "2025-07-11T14:09:04.415749",
     "status": "completed"
    },
    "tags": []
   },
   "outputs": [
    {
     "data": {
      "image/png": "[encoded data removed]",
      "text/plain": [
       "<Figure size 1000x400 with 1 Axes>"
      ]
     },
     "metadata": {},
     "output_type": "display_data"
    }
   ],
   "source": [
    "plt.figure(figsize=(10,4))\n",
    "sns.countplot(data=train, x='Misconception', order=train['Misconception'].value_counts().head(20).index, color='purple')\n",
    "plt.xticks(rotation=45)\n",
    "plt.title(\"Misconceptions top 20 Distribution\")\n",
    "plt.show()"
   ]
  },
  {
   "cell_type": "markdown",
   "id": "74910623",
   "metadata": {
    "papermill": {
     "duration": 0.01101,
     "end_time": "2025-07-11T14:09:04.739816",
     "exception": false,
     "start_time": "2025-07-11T14:09:04.728806",
     "status": "completed"
    },
    "tags": []
   },
   "source": [
    "### Misconceptions (15 bottom)"
   ]
  },
  {
   "cell_type": "code",
   "execution_count": 15,
   "id": "09d7c73e",
   "metadata": {
    "_kg_hide-input": true,
    "execution": {
     "iopub.execute_input": "2025-07-11T14:09:04.763823Z",
     "iopub.status.busy": "2025-07-11T14:09:04.763521Z",
     "iopub.status.idle": "2025-07-11T14:09:05.021781Z",
     "shell.execute_reply": "2025-07-11T14:09:05.020699Z"
    },
    "papermill": {
     "duration": 0.27221,
     "end_time": "2025-07-11T14:09:05.023491",
     "exception": false,
     "start_time": "2025-07-11T14:09:04.751281",
     "status": "completed"
    },
    "tags": []
   },
   "outputs": [
    {
     "data": {
      "image/png": "[encoded data removed]",
      "text/plain": [
       "<Figure size 1000x400 with 1 Axes>"
      ]
     },
     "metadata": {},
     "output_type": "display_data"
    }
   ],
   "source": [
    "plt.figure(figsize=(10,4))\n",
    "sns.countplot(data=train, x='Misconception', order=train['Misconception'].value_counts().tail(15).index, color='orange')\n",
    "plt.xticks(rotation=60)\n",
    "plt.title(\"Misconceptions (15 bottom) Distribution\")\n",
    "plt.show()"
   ]
  },
  {
   "cell_type": "markdown",
   "id": "8858f2fe",
   "metadata": {
    "papermill": {
     "duration": 0.01272,
     "end_time": "2025-07-11T14:09:05.049572",
     "exception": false,
     "start_time": "2025-07-11T14:09:05.036852",
     "status": "completed"
    },
    "tags": []
   },
   "source": [
    "## Install Keras"
   ]
  },
  {
   "cell_type": "code",
   "execution_count": 16,
   "id": "03713731",
   "metadata": {
    "_kg_hide-output": true,
    "execution": {
     "iopub.execute_input": "2025-07-11T14:09:05.078261Z",
     "iopub.status.busy": "2025-07-11T14:09:05.077537Z",
     "iopub.status.idle": "2025-07-11T14:09:39.752805Z",
     "shell.execute_reply": "2025-07-11T14:09:39.751399Z"
    },
    "papermill": {
     "duration": 34.691822,
     "end_time": "2025-07-11T14:09:39.754666",
     "exception": false,
     "start_time": "2025-07-11T14:09:05.062844",
     "status": "completed"
    },
    "tags": []
   },
   "outputs": [
    {
     "name": "stdout",
     "output_type": "stream",
     "text": [
      "\u001b[2K   \u001b[90m━━━━━━━━━━━━━━━━━━━━━━━━━━━━━━━━━━━━━━━━\u001b[0m \u001b[32m876.5/876.5 kB\u001b[0m \u001b[31m11.6 MB/s\u001b[0m eta \u001b[36m0:00:00\u001b[0m\r\n",
      "\u001b[?25h"
     ]
    },
    {
     "name": "stderr",
     "output_type": "stream",
     "text": [
      "2025-07-11 14:09:27.235939: E external/local_xla/xla/stream_executor/cuda/cuda_fft.cc:477] Unable to register cuFFT factory: Attempting to register factory for plugin cuFFT when one has already been registered\n",
      "WARNING: All log messages before absl::InitializeLog() is called are written to STDERR\n",
      "E0000 00:00:1752242967.523452      13 cuda_dnn.cc:8310] Unable to register cuDNN factory: Attempting to register factory for plugin cuDNN when one has already been registered\n",
      "E0000 00:00:1752242967.604672      13 cuda_blas.cc:1418] Unable to register cuBLAS factory: Attempting to register factory for plugin cuBLAS when one has already been registered\n"
     ]
    }
   ],
   "source": [
    "# Install Keras 3 last. See https://keras.io/getting_started/ for more details.\n",
    "!pip install -q -U keras-nlp\n",
    "!pip install -q -U keras>=3\n",
    "\n",
    "import os\n",
    "\n",
    "os.environ[\"KERAS_BACKEND\"] = \"jax\"  # Or \"torch\" or \"tensorflow\".\n",
    "# Avoid memory fragmentation on JAX backend.\n",
    "os.environ[\"XLA_PYTHON_CLIENT_MEM_FRACTION\"]=\"1.00\"\n",
    "\n",
    "import keras\n",
    "import keras_nlp"
   ]
  },
  {
   "cell_type": "markdown",
   "id": "28385572",
   "metadata": {
    "papermill": {
     "duration": 0.012786,
     "end_time": "2025-07-11T14:09:39.780589",
     "exception": false,
     "start_time": "2025-07-11T14:09:39.767803",
     "status": "completed"
    },
    "tags": []
   },
   "source": [
    "## Gemma 2b_en\n",
    "\n",
    "Unable to initialize backend 'rocm': module 'jaxlib.xla_extension' has no attribute 'GpuAllocatorConfig'"
   ]
  },
  {
   "cell_type": "code",
   "execution_count": 17,
   "id": "d07bd8f8",
   "metadata": {
    "_kg_hide-output": true,
    "execution": {
     "iopub.execute_input": "2025-07-11T14:09:39.807845Z",
     "iopub.status.busy": "2025-07-11T14:09:39.807252Z",
     "iopub.status.idle": "2025-07-11T14:11:53.808415Z",
     "shell.execute_reply": "2025-07-11T14:11:53.807079Z"
    },
    "papermill": {
     "duration": 134.017464,
     "end_time": "2025-07-11T14:11:53.810863",
     "exception": false,
     "start_time": "2025-07-11T14:09:39.793399",
     "status": "completed"
    },
    "tags": []
   },
   "outputs": [
    {
     "name": "stderr",
     "output_type": "stream",
     "text": [
      "INFO:2025-07-11 14:09:41,411:jax._src.xla_bridge:924: Unable to initialize backend 'rocm': module 'jaxlib.xla_extension' has no attribute 'GpuAllocatorConfig'\n",
      "INFO:2025-07-11 14:09:41,431:jax._src.xla_bridge:924: Unable to initialize backend 'tpu': INTERNAL: Failed to open libtpu.so: libtpu.so: cannot open shared object file: No such file or directory\n",
      "2025-07-11 14:11:53.340013: E external/local_xla/xla/stream_executor/cuda/cuda_driver.cc:152] failed call to cuInit: INTERNAL: CUDA error: Failed call to cuInit: UNKNOWN ERROR (303)\n",
      "normalizer.cc(51) LOG(INFO) precompiled_charsmap is empty. use identity normalization.\n"
     ]
    }
   ],
   "source": [
    "gemma_lm = keras_nlp.models.GemmaCausalLM.from_preset(\"gemma_2b_en\")\n",
    "#gemma_lm.summary()"
   ]
  },
  {
   "cell_type": "markdown",
   "id": "a2d39e41",
   "metadata": {
    "papermill": {
     "duration": 0.013186,
     "end_time": "2025-07-11T14:11:53.838349",
     "exception": false,
     "start_time": "2025-07-11T14:11:53.825163",
     "status": "completed"
    },
    "tags": []
   },
   "source": [
    "### MC_Answer - The multiple-choice answer the student selected."
   ]
  },
  {
   "cell_type": "code",
   "execution_count": 18,
   "id": "fffab969",
   "metadata": {
    "execution": {
     "iopub.execute_input": "2025-07-11T14:11:53.866936Z",
     "iopub.status.busy": "2025-07-11T14:11:53.866547Z",
     "iopub.status.idle": "2025-07-11T14:11:53.875930Z",
     "shell.execute_reply": "2025-07-11T14:11:53.874713Z"
    },
    "papermill": {
     "duration": 0.026664,
     "end_time": "2025-07-11T14:11:53.878018",
     "exception": false,
     "start_time": "2025-07-11T14:11:53.851354",
     "status": "completed"
    },
    "tags": []
   },
   "outputs": [],
   "source": [
    "#By York Yong https://www.kaggle.com/code/yorkyong/gemma-trial-ace-a-data-science-interview\n",
    "\n",
    "MAP_dataset = []\n",
    "    \n",
    "for index, row in test.iterrows():\n",
    "    question, answer = row['QuestionText'], row['MC_Answer']\n",
    "    template = (f\"QuestionText:\\n{question}\\n\\nMC_Answer:\\n{answer}\")\n",
    "    MAP_dataset.append(template)"
   ]
  },
  {
   "cell_type": "markdown",
   "id": "8ed0086e",
   "metadata": {
    "papermill": {
     "duration": 0.012923,
     "end_time": "2025-07-11T14:11:53.904371",
     "exception": false,
     "start_time": "2025-07-11T14:11:53.891448",
     "status": "completed"
    },
    "tags": []
   },
   "source": [
    "## LoRA"
   ]
  },
  {
   "cell_type": "code",
   "execution_count": 19,
   "id": "c8b89ab5",
   "metadata": {
    "execution": {
     "iopub.execute_input": "2025-07-11T14:11:53.934055Z",
     "iopub.status.busy": "2025-07-11T14:11:53.933074Z",
     "iopub.status.idle": "2025-07-11T14:11:55.240700Z",
     "shell.execute_reply": "2025-07-11T14:11:55.238153Z"
    },
    "papermill": {
     "duration": 1.326541,
     "end_time": "2025-07-11T14:11:55.244221",
     "exception": false,
     "start_time": "2025-07-11T14:11:53.917680",
     "status": "completed"
    },
    "tags": []
   },
   "outputs": [],
   "source": [
    "# Enable LoRA for the model and set the LoRA rank to 64.\n",
    "gemma_lm.backbone.enable_lora(rank=64)"
   ]
  },
  {
   "cell_type": "code",
   "execution_count": 20,
   "id": "3b0990d2",
   "metadata": {
    "execution": {
     "iopub.execute_input": "2025-07-11T14:11:55.292802Z",
     "iopub.status.busy": "2025-07-11T14:11:55.292477Z",
     "iopub.status.idle": "2025-07-11T14:11:55.301398Z",
     "shell.execute_reply": "2025-07-11T14:11:55.300547Z"
    },
    "papermill": {
     "duration": 0.031134,
     "end_time": "2025-07-11T14:11:55.303401",
     "exception": false,
     "start_time": "2025-07-11T14:11:55.272267",
     "status": "completed"
    },
    "tags": []
   },
   "outputs": [],
   "source": [
    "# Limit the input sequence length to 512 (to control memory usage).\n",
    "gemma_lm.preprocessor.sequence_length = 512\n",
    "# Use AdamW (a common optimizer for transformer models).\n",
    "optimizer = keras.optimizers.AdamW(\n",
    "    learning_rate=5e-5,\n",
    "    weight_decay=0.01,\n",
    ")\n",
    "# Exclude layernorm and bias terms from decay.\n",
    "optimizer.exclude_from_weight_decay(var_names=[\"bias\", \"scale\"])\n",
    "\n",
    "gemma_lm.compile(\n",
    "    loss=keras.losses.SparseCategoricalCrossentropy(from_logits=True),\n",
    "    optimizer=optimizer,\n",
    "    weighted_metrics=[keras.metrics.SparseCategoricalAccuracy()],\n",
    ")"
   ]
  },
  {
   "cell_type": "markdown",
   "id": "f325ad4f",
   "metadata": {
    "papermill": {
     "duration": 0.013597,
     "end_time": "2025-07-11T14:11:55.330120",
     "exception": false,
     "start_time": "2025-07-11T14:11:55.316523",
     "status": "completed"
    },
    "tags": []
   },
   "source": [
    "## Epochs\n",
    "\n",
    "Started 22:13 till 22:15 "
   ]
  },
  {
   "cell_type": "code",
   "execution_count": 21,
   "id": "e3f51a9c",
   "metadata": {
    "execution": {
     "iopub.execute_input": "2025-07-11T14:11:55.359136Z",
     "iopub.status.busy": "2025-07-11T14:11:55.358626Z",
     "iopub.status.idle": "2025-07-11T14:16:34.141167Z",
     "shell.execute_reply": "2025-07-11T14:16:34.139432Z"
    },
    "papermill": {
     "duration": 278.799688,
     "end_time": "2025-07-11T14:16:34.142872",
     "exception": false,
     "start_time": "2025-07-11T14:11:55.343184",
     "status": "completed"
    },
    "tags": []
   },
   "outputs": [
    {
     "name": "stdout",
     "output_type": "stream",
     "text": [
      "\u001b[1m3/3\u001b[0m \u001b[32m━━━━━━━━━━━━━━━━━━━━\u001b[0m\u001b[37m\u001b[0m \u001b[1m276s\u001b[0m 88s/step - loss: 0.2589 - sparse_categorical_accuracy: 0.5559\n",
      "CPU times: user 15min 31s, sys: 30.5 s, total: 16min 1s\n",
      "Wall time: 4min 38s\n"
     ]
    },
    {
     "data": {
      "text/plain": [
       "<keras.src.callbacks.history.History at 0x7dad97bc90d0>"
      ]
     },
     "execution_count": 21,
     "metadata": {},
     "output_type": "execute_result"
    }
   ],
   "source": [
    "%%time\n",
    "\n",
    "gemma_lm.fit(MAP_dataset, epochs=1, batch_size=1)"
   ]
  },
  {
   "cell_type": "markdown",
   "id": "a0acc9ea",
   "metadata": {
    "papermill": {
     "duration": 0.014633,
     "end_time": "2025-07-11T14:16:34.171884",
     "exception": false,
     "start_time": "2025-07-11T14:16:34.157251",
     "status": "completed"
    },
    "tags": []
   },
   "source": [
    "## Without options I didn't get the question\n",
    "\n",
    "The question is only: \"Which number is the greatest?\"  No number options to choose.  **Therefore**, I added to the question two numbers to be compared by Gemma model.\n",
    "\n",
    "Since the MC_Answer (multiple choice) was 6.2 and the student explanation was: \"because the 2 makes it higher than the others.\"  I wrote 6 or 6.2, which is something that makes sense to me."
   ]
  },
  {
   "cell_type": "markdown",
   "id": "b1c38847",
   "metadata": {
    "papermill": {
     "duration": 0.014477,
     "end_time": "2025-07-11T14:16:34.200817",
     "exception": false,
     "start_time": "2025-07-11T14:16:34.186340",
     "status": "completed"
    },
    "tags": []
   },
   "source": [
    "## I think Gemma misanderstood or I am missing something.\n",
    "\n",
    " Gemma's answer: Which number is the greatest 6 or 6.2?\n",
    "\n",
    "Answer:\n",
    "\n",
    "Step 1/2\n",
    "First, we need to compare the whole numbers 6 and 6.2. Since 6 is a whole number, it is already the greatest number.\n",
    "\n",
    "Step 2/2\n",
    "**Therefore, the answer is 6.**\n",
    "CPU times: user 3min 37s, sys: 2.49 s, total: 3min 40s\n",
    "Wall time: 1min 50s\n",
    "\n",
    "That's so cute, **Gemma is using \"Therefore**\"."
   ]
  },
  {
   "cell_type": "code",
   "execution_count": 22,
   "id": "746585c8",
   "metadata": {
    "execution": {
     "iopub.execute_input": "2025-07-11T14:16:34.231289Z",
     "iopub.status.busy": "2025-07-11T14:16:34.230818Z",
     "iopub.status.idle": "2025-07-11T14:18:41.745849Z",
     "shell.execute_reply": "2025-07-11T14:18:41.744802Z"
    },
    "papermill": {
     "duration": 127.545362,
     "end_time": "2025-07-11T14:18:41.760719",
     "exception": false,
     "start_time": "2025-07-11T14:16:34.215357",
     "status": "completed"
    },
    "tags": []
   },
   "outputs": [
    {
     "name": "stdout",
     "output_type": "stream",
     "text": [
      "Which number is the greatest 6 or 6.2?\n",
      "\n",
      "Answer:\n",
      "\n",
      "Step 1/2\n",
      "First, we need to compare the whole numbers 6 and 6.2. Since 6 is a whole number, it is already the greatest number.\n",
      "\n",
      "Step 2/2\n",
      "Therefore, the answer is 6.\n",
      "CPU times: user 4min 6s, sys: 3.51 s, total: 4min 10s\n",
      "Wall time: 2min 7s\n"
     ]
    }
   ],
   "source": [
    "%%time\n",
    "print(gemma_lm.generate(\"Which number is the greatest 6 or 6.2?\", max_length=256))"
   ]
  },
  {
   "cell_type": "markdown",
   "id": "00ec8a48",
   "metadata": {
    "papermill": {
     "duration": 0.013756,
     "end_time": "2025-07-11T14:18:41.788304",
     "exception": false,
     "start_time": "2025-07-11T14:18:41.774548",
     "status": "completed"
    },
    "tags": []
   },
   "source": [
    "## Question two\n",
    "\n",
    "test['QuestionText'][0]\n",
    "\n",
    "\"What fraction of the shape is not shaded? Give your answer in its simplest form. [Image: A triangle split into 9 equal smaller triangles. 6 of them are shaded.\""
   ]
  },
  {
   "cell_type": "code",
   "execution_count": 23,
   "id": "b1b80343",
   "metadata": {
    "execution": {
     "iopub.execute_input": "2025-07-11T14:18:41.817067Z",
     "iopub.status.busy": "2025-07-11T14:18:41.816656Z",
     "iopub.status.idle": "2025-07-11T14:20:18.916449Z",
     "shell.execute_reply": "2025-07-11T14:20:18.915111Z"
    },
    "papermill": {
     "duration": 97.130362,
     "end_time": "2025-07-11T14:20:18.932024",
     "exception": false,
     "start_time": "2025-07-11T14:18:41.801662",
     "status": "completed"
    },
    "tags": []
   },
   "outputs": [
    {
     "name": "stdout",
     "output_type": "stream",
     "text": [
      "A triangle split into nine equal smaller triangles. Six of them are shaded. What fraction of the shape is not shaded?\n",
      "\n",
      "Step 1\n",
      "1 of 2\n",
      "\n",
      "The shaded triangles are 6 out of 9 triangles.\n",
      "\n",
      "$\\dfrac{6}{9}=\\dfrac{2}{3} $\n",
      "\n",
      "Result\n",
      "2 of 2\n",
      "\n",
      "$\\dfrac{2}{3} $\n",
      "CPU times: user 2min 57s, sys: 2.55 s, total: 2min 59s\n",
      "Wall time: 1min 37s\n"
     ]
    }
   ],
   "source": [
    "%%time\n",
    "print(gemma_lm.generate(\"A triangle split into nine equal smaller triangles. Six of them are shaded. What fraction of the shape is not shaded?\", max_length=256))"
   ]
  },
  {
   "cell_type": "markdown",
   "id": "6e52a238",
   "metadata": {
    "papermill": {
     "duration": 0.014193,
     "end_time": "2025-07-11T14:20:18.960183",
     "exception": false,
     "start_time": "2025-07-11T14:20:18.945990",
     "status": "completed"
    },
    "tags": []
   },
   "source": [
    "![](https://encrypted-tbn0.gstatic.com/images?q=tbn:ANd9GcQqWGOZcDN2FLh4LXJZ0jUvYqMw2JzqS_msGXTAaaZ1fNU83TlUpXf4DLRN5sP53IZITNw&usqp=CAU)Pinterest"
   ]
  },
  {
   "cell_type": "markdown",
   "id": "31e4be0c",
   "metadata": {
    "papermill": {
     "duration": 0.014019,
     "end_time": "2025-07-11T14:20:18.988022",
     "exception": false,
     "start_time": "2025-07-11T14:20:18.974003",
     "status": "completed"
    },
    "tags": []
   },
   "source": [
    "#Acknowledgements:\n",
    "\n",
    "AI Google Developers https://ai.google.dev/gemma/docs/lora_tuning#load_dataset\n",
    "\n",
    "York Yong https://www.kaggle.com/code/yorkyong/gemma-trial-ace-a-data-science-interview\n",
    "\n",
    "Josh Longenecker https://www.kaggle.com/code/joshlongenecker/gemma-summarization\n",
    "\n",
    "mpwolke https://www.kaggle.com/code/mpwolke/hello-python-functions-with-gemma\n",
    "\n",
    "mpwolke https://www.kaggle.com/code/mpwolke/what-is-1-1-gemma/notebook"
   ]
  }
 ],
 "metadata": {
  "kaggle": {
   "accelerator": "none",
   "dataSources": [
    {
     "databundleVersionId": 12957508,
     "sourceId": 104383,
     "sourceType": "competition"
    },
    {
     "modelId": 78150,
     "modelInstanceId": 72244,
     "sourceId": 205084,
     "sourceType": "modelInstanceVersion"
    },
    {
     "modelId": 3533,
     "modelInstanceId": 5171,
     "sourceId": 208042,
     "sourceType": "modelInstanceVersion"
    }
   ],
   "dockerImageVersionId": 31089,
   "isGpuEnabled": false,
   "isInternetEnabled": true,
   "language": "python",
   "sourceType": "notebook"
  },
  "kernelspec": {
   "display_name": "Python 3",
   "language": "python",
   "name": "python3"
  },
  "language_info": {
   "codemirror_mode": {
    "name": "ipython",
    "version": 3
   },
   "file_extension": ".py",
   "mimetype": "text/x-python",
   "name": "python",
   "nbconvert_exporter": "python",
   "pygments_lexer": "ipython3",
   "version": "3.11.13"
  },
  "papermill": {
   "default_parameters": {},
   "duration": 691.121659,
   "end_time": "2025-07-11T14:20:23.859403",
   "environment_variables": {},
   "exception": null,
   "input_path": "__notebook__.ipynb",
   "output_path": "__notebook__.ipynb",
   "parameters": {},
   "start_time": "2025-07-11T14:08:52.737744",
   "version": "2.6.0"
  }
 },
 "nbformat": 4,
 "nbformat_minor": 5
}
